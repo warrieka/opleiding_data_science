{
 "cells": [
  {
   "cell_type": "markdown",
   "metadata": {},
   "source": [
    "# Oefeningen les 5"
   ]
  },
  {
   "cell_type": "code",
   "execution_count": 18,
   "metadata": {},
   "outputs": [],
   "source": [
    "import numpy as np\n",
    "import datetime\n",
    "from random import randint, sample\n",
    "\n",
    "from Levenshtein import distance"
   ]
  },
  {
   "cell_type": "markdown",
   "metadata": {},
   "source": [
    "1) Vraag de gebruiker voor zijn leeftijd en geef als output het jaar waarin de gebruiker 100 jaar zal zijn.\n",
    "    - a) In eerste instantie mag je het huidige jaartal hard-coden in je code. \n",
    "    - b) Advanced: Zorg ervoor dat je programma volgend jaar ook nog werk"
   ]
  },
  {
   "cell_type": "code",
   "execution_count": 4,
   "metadata": {},
   "outputs": [
    {
     "name": "stdout",
     "output_type": "stream",
     "text": [
      "2107\n"
     ]
    }
   ],
   "source": [
    "age = int( input(\"What's your age?\") )\n",
    "ydiff = 100 - age\n",
    "print( datetime.datetime.now().year + ydiff )"
   ]
  },
  {
   "cell_type": "markdown",
   "metadata": {},
   "source": [
    "2) Schrijf een programma dat de gebruiker vraagt om een getal. \n",
    "    - a) Geef als output weer of het getal even of oneven is. \n",
    "    - b) Geef als output weer of het getal even/oneven is; geef verder ook aan of het \n",
    "gegeven getal deelbaar is door 4"
   ]
  },
  {
   "cell_type": "code",
   "execution_count": 6,
   "metadata": {},
   "outputs": [
    {
     "name": "stdout",
     "output_type": "stream",
     "text": [
      "even\n",
      "and divisible by 4\n"
     ]
    }
   ],
   "source": [
    "nr = int( input(\"give a number\") )\n",
    "\n",
    "if(nr % 2 == 0):\n",
    "    print('even')\n",
    "    if(nr % 4 == 0):\n",
    "        print('and divisible by 4')\n",
    "else:\n",
    "    print('odd')"
   ]
  },
  {
   "cell_type": "markdown",
   "metadata": {},
   "source": [
    "3) Schrijf een programma dat vraagt om een getal n en als output de eerste n Fibonacci \n",
    "getallen geeft. <br>\n",
    "**Uitbreiding:** schrijf een programma dat gegeven de parameters P & Q de eerste n Lucas \n",
    "getallen teruggeeft"
   ]
  },
  {
   "cell_type": "code",
   "execution_count": 7,
   "metadata": {},
   "outputs": [
    {
     "name": "stdout",
     "output_type": "stream",
     "text": [
      "[0, 1, 1, 2, 3, 5, 8, 13, 21, 34, 55, 89, 144, 233, 377, 610, 987, 1597, 2584, 4181, 6765, 10946, 17711, 28657, 46368, 75025, 121393, 196418, 317811, 514229, 832040, 1346269, 2178309, 3524578, 5702887, 9227465, 14930352, 24157817, 39088169, 63245986, 102334155, 165580141, 267914296, 433494437, 701408733, 1134903170, 1836311903, 2971215073, 4807526976, 7778742049]\n"
     ]
    }
   ],
   "source": [
    "nr = int( input(\"give a whole number\") )\n",
    "\n",
    "nr_list = [0,1]\n",
    "for n in range( nr +1):\n",
    "    nr = nr_list[-2] + nr_list[-1]\n",
    "    nr_list.append( nr )\n",
    "\n",
    "print(nr_list)"
   ]
  },
  {
   "cell_type": "markdown",
   "metadata": {},
   "source": [
    "Uitbreiding: schrijf een programma dat gegeven de parameters P & Q de eerste n Lucas \n",
    "getallen teruggeeft. \n",
    " \n",
    "\n",
    "Zie ook: https://en.wikipedia.org/wiki/Generalizations_of_Fibonacci_number"
   ]
  },
  {
   "cell_type": "code",
   "execution_count": null,
   "metadata": {},
   "outputs": [],
   "source": [
    "## wist ik niet"
   ]
  },
  {
   "cell_type": "markdown",
   "metadata": {},
   "source": [
    "4) Schrijf een paswoord generator die, gegeven een getal n een paswoord genereert dat \n",
    "bestaat uit n willekeurige karakters.<br>\n",
    "**Opmerking:** Bekijk zeker random.sample."
   ]
  },
  {
   "cell_type": "code",
   "execution_count": 8,
   "metadata": {},
   "outputs": [
    {
     "name": "stdout",
     "output_type": "stream",
     "text": [
      "ji2Jf{Q2\\^p{z~3[4uNJ^^g0P3~IJlS74JIK74f9PE\n"
     ]
    }
   ],
   "source": [
    "\n",
    "nr_chars = int( input(\"give the number of desired characters\") )\n",
    "print(\"\".join( [ chr(randint(48, 256)) for _n in range(nr_chars)]) )"
   ]
  },
  {
   "cell_type": "markdown",
   "metadata": {},
   "source": [
    "5) Schrijf een programma dat gegeven een string de string volledig omdraait (bvb Ik ben Tim \n",
    "wordt Tim ben ik). <br>\n",
    "Opmerking: Gebruik `.split()`"
   ]
  },
  {
   "cell_type": "code",
   "execution_count": 9,
   "metadata": {},
   "outputs": [
    {
     "name": "stdout",
     "output_type": "stream",
     "text": [
      "hier ben ik hallo\n"
     ]
    }
   ],
   "source": [
    "in_txt = input(\"Type some text\")   \n",
    "out_txt = \" \".join( in_txt.split()[::-1] )\n",
    "print(out_txt)"
   ]
  },
  {
   "cell_type": "markdown",
   "metadata": {},
   "source": [
    "6) Schrijf een spel schaar-steen-papier waarbij je continu vraagt voor input van de gebruiker; je \n",
    "hebt dan 4 keuzes: “schaar”, “steen”, “papier” of “stop”. Als de gebruiker stop ingeeft stopt \n",
    "het programma en bij de keuze van schaar/steen/papier speel je een spelletje schaar steen \n",
    "papier tegen de computer. Geef aan wie er gewonnen is en de tussenstand. \n",
    "\n",
    "   **Opmerking:** gebruik random.sample.\n",
    "\n",
    "   - a) Voor extra moeilijkheid: Zorg dat het programma robuust is voor meerdere \n",
    "   talen/gewoontes (blad steen schaar & rock paper scissors). \n",
    "   - b) Zorg dat het programma ook werkt met typfouten: het programma moet voor elke \n",
    "   input de meest waarschijnlijke keuze nemen (tip: je kan gebruik maken van de \n",
    "   Levenshtein distance"
   ]
  },
  {
   "cell_type": "markdown",
   "metadata": {},
   "source": [
    "### answer for 6.2\n",
    "\n",
    "Requires an extra package to calculate Levenshtein.\n",
    "\n",
    "Use pip to install\n",
    "```\n",
    "pip install levenshtein\n",
    "...\n",
    "from Levenshtein import distance\n",
    "```\n",
    "More info: <https://maxbachmann.github.io/Levenshtein/>"
   ]
  },
  {
   "cell_type": "code",
   "execution_count": 23,
   "metadata": {},
   "outputs": [],
   "source": [
    "from Levenshtein import distance\n",
    "\n",
    "def ssp_test(test_choice):\n",
    "    choice_result = None\n",
    "    schaar = lambda user_choice: min( [distance(user_choice.lower() , w ) for w in ('schaar', 'scissors')] ) <= 2\n",
    "    steen  = lambda user_choice: min( [distance(user_choice.lower() , w ) for w in ('steen','rock')] ) <= 2\n",
    "    papier = lambda user_choice: min( [distance(user_choice.lower() , w ) for w in ('papier','paper')] ) <= 2\n",
    "    if schaar(test_choice): choice_result = 'schaar'\n",
    "    if steen(test_choice) : choice_result = 'steen'\n",
    "    if papier(test_choice): choice_result = 'schaar'\n",
    "    return choice_result\n",
    "\n",
    "def ssp_compare(user1, user2):\n",
    "    u1 = ssp_test(user1)\n",
    "    u2 = ssp_test(user2)\n",
    "    if u1 == u2:\n",
    "       return 0 #'tie'\n",
    "    if u1 == 'schaar': \n",
    "       if u2 == 'steen':  return 2 #'user 2 loses'\n",
    "       if u2 == 'papier': return 1 #'user 1 loses'\n",
    "    if u1 == 'steen': \n",
    "       if u2 == 'schaar':  return 1\n",
    "       if u2 == 'papier':  return 2\n",
    "    if u1 == 'papier': \n",
    "       if u2 == 'schaar': return 1 \n",
    "       if u2 == 'steen':  return 2"
   ]
  },
  {
   "cell_type": "code",
   "execution_count": 30,
   "metadata": {},
   "outputs": [
    {
     "name": "stdout",
     "output_type": "stream",
     "text": [
      "You are a winner\n"
     ]
    }
   ],
   "source": [
    "ssp_list = ['schaar','steen','papier']\n",
    "computer_choice = sample(ssp_list, 1)[0]\n",
    "result = 0\n",
    "while result == 0:\n",
    "   user_choice = input(\"please type 'schaar'/'steen'/'papier' or 'rock'/'paper'/'scissors'\")\n",
    "   result = ssp_compare(user_choice, computer_choice)\n",
    "   if result == 1:\n",
    "     print(\"You are a winner\")\n",
    "   elif result == 2:\n",
    "     print(\"You lost\")\n",
    "   elif result == 0:\n",
    "     print(\"Tie, Try again\")"
   ]
  }
 ],
 "metadata": {
  "kernelspec": {
   "display_name": "Python 3.9.13 ('gemgis')",
   "language": "python",
   "name": "python3"
  },
  "language_info": {
   "codemirror_mode": {
    "name": "ipython",
    "version": 3
   },
   "file_extension": ".py",
   "mimetype": "text/x-python",
   "name": "python",
   "nbconvert_exporter": "python",
   "pygments_lexer": "ipython3",
   "version": "3.9.13"
  },
  "orig_nbformat": 4,
  "vscode": {
   "interpreter": {
    "hash": "5eb9a7e35d9779be561e67c0305aaf4afdcb0ade15b48968c6f3ef324db5fba4"
   }
  }
 },
 "nbformat": 4,
 "nbformat_minor": 2
}
